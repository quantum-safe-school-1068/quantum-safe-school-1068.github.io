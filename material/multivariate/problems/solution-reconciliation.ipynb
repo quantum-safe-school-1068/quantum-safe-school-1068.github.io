{
 "cells": [
  {
   "cell_type": "markdown",
   "id": "2bbb5f26-90b0-43bd-8835-2c43a640f711",
   "metadata": {},
   "source": [
    "# Multivariate Cryptography\n",
    "# Introduction to Quantum-Safe Cryptography (IBM Zurich)\n",
    "# Simona Samardjiska\n",
    "# Programming assignment\n",
    "\n",
    "# Simple iterative reconciliation attack "
   ]
  },
  {
   "cell_type": "code",
   "execution_count": 1,
   "id": "676bd4e6-9438-467c-9ab5-cdcae1ddec90",
   "metadata": {},
   "outputs": [],
   "source": [
    "load(\"UOVconstruction.sage\") "
   ]
  },
  {
   "cell_type": "markdown",
   "id": "15a25fbc-d605-4e41-9ede-2f691b161a30",
   "metadata": {},
   "source": [
    "######################################\n",
    "# helper"
   ]
  },
  {
   "cell_type": "code",
   "execution_count": 2,
   "id": "40bf3380-7dd8-488b-8cef-37b057a56027",
   "metadata": {},
   "outputs": [],
   "source": [
    "def SplitInto_k(L, k):\n",
    "    l = len(L)\n",
    "    m = l // k # the length of the sublists\n",
    "    return [list(L[i*m:(i+1)*m]) for i in range(k)]\n",
    "\n",
    "def AppendIndependent(L, k):\n",
    "    l = len(L)\n",
    "    aug_list = [[0 for j in range(k)]+L[i] for i in range(l)]\n",
    "    for i in range(l):\n",
    "        aug_list[i][i]=1\n",
    "    return aug_list"
   ]
  },
  {
   "cell_type": "code",
   "execution_count": 3,
   "id": "d7a9ff3d-dd52-489e-bee8-12eb7f057529",
   "metadata": {},
   "outputs": [],
   "source": [
    "#############################################\n",
    "##### Reconciliation attack #################"
   ]
  },
  {
   "cell_type": "code",
   "execution_count": 4,
   "id": "c58200f2-3d9b-489e-bde4-a883b7615fc1",
   "metadata": {},
   "outputs": [],
   "source": [
    "def MakeSystem(oil_vectors, PublicKey, PublicKeySymm):\n",
    "\tsystem=[]\n",
    "\tfor j in range(len(oil_vectors)):\n",
    "\t\tsystem += MQeval(PublicKey,Matrix(R,n,1,oil_vectors[j]), Matrix(R,n,1,oil_vectors[j]))\n",
    "\t\tfor k in range(j+1,len(oil_vectors)):\n",
    "\t\t\tsystem += MQeval(PublicKeySymm,Matrix(R,n,1,oil_vectors[j]), Matrix(R,n,1,oil_vectors[k]))\n",
    "\t# print(\"system\")\n",
    "\t# print(system)\n",
    "\treturn system"
   ]
  },
  {
   "cell_type": "code",
   "execution_count": 5,
   "id": "8d948128-a284-4599-9a42-6896e5b00145",
   "metadata": {},
   "outputs": [],
   "source": [
    "def SolveSystem(system):\n",
    "\tI=ideal(system)\n",
    "\tgr=I.groebner_basis()\n",
    "\t# print(\"gr\")\n",
    "\t# print(gr)\n",
    "\tsolution_split=[]\n",
    "\tif len(gr)==c*v:\n",
    "\t\tsolution=[x[i]-gr[i] for i in range(c*v)]\n",
    "\t\tprint(\"oil vectors found\")\n",
    "\t\tsolution_split = SplitInto_k(solution, c)\n",
    "\t\tprint(solution_split)\n",
    "\t\tprint(\" \")\n",
    "\telse:\n",
    "\t\tprint(\"NO oil vectors found\")\n",
    "\t\tif len(gr)==1:\n",
    "\t\t\tprint(\"Needs randomization\")\n",
    "\t\telse:\n",
    "\t\t\tprint(\"Needs c+=1\")\n",
    "\treturn solution_split"
   ]
  },
  {
   "cell_type": "code",
   "execution_count": 6,
   "id": "2b3f205d-a0f7-43b8-83ae-12c2e576567b",
   "metadata": {},
   "outputs": [],
   "source": [
    "def FindOilSpace(Public_Key, Public_Key_Symm):\n",
    "\tfound=0\n",
    "\tc=ceil(2*n/m-2)\n",
    "\tprint(\"c=\",c)\n",
    "\tR = PolynomialRing(K,'x', c*v, order='degrevlex')\n",
    "\tx = R.gens()\n",
    "\tvar_oil=SplitInto_k(x, c)\n",
    "\t\n",
    "\tsolution_split=[]\n",
    "\toil_list = []\n",
    "\trecoveredOil = []\n",
    "\n",
    "\twhile found < m:\n",
    "\t\tR = PolynomialRing(K,'x', c*v, order='degrevlex')\n",
    "\t\tx = R.gens()\n",
    "\t\t# var_oil=SplitInto_k(x, c)\n",
    "\n",
    "\t\t###### change the ring of operation\n",
    "\t\tPublic_Key= [M.change_ring(R) for M in Public_Key]\n",
    "\t\tPublic_Key_Symm= [M.change_ring(R) for M in Public_Key_Symm]\n",
    "\t\t# Central_Map= [M.change_ring(R) for M in Central_Map]\n",
    "\t\t# Central_Map_Symm= [M.change_ring(R) for M in Central_Map_Symm]\n",
    "\t\t# S.change_ring(R)\n",
    "\n",
    "\t\toil_list +=  solution_split \n",
    "\t\toil_vectors=AppendIndependent(oil_list + var_oil, m)\n",
    "\t\tprint(\"oil_vectors\")\n",
    "\t\tprint(oil_vectors)\n",
    "\t\t\n",
    "\t\tsystem = MakeSystem(oil_vectors, Public_Key, Public_Key_Symm)\n",
    "\t\t# print(\"system\")\n",
    "\t\t# print(system)\n",
    "\t\tsolution_split = SolveSystem(system)\n",
    "\t\tfound += len(solution_split)\n",
    "\t\tif found > 0: c=1\n",
    "\t\t\n",
    "\toil_list +=  solution_split \n",
    "\trecoveredOil = AppendIndependent(oil_list, m)\n",
    "\treturn recoveredOil"
   ]
  },
  {
   "cell_type": "code",
   "execution_count": 7,
   "id": "eef49c3a-242b-4239-9b7a-5f6b55e56d88",
   "metadata": {},
   "outputs": [],
   "source": [
    "################ main ##############\n",
    "q=4\n",
    "n=8\n",
    "m=4\n",
    "v=n-m\n",
    "c=ceil(2*n/m-2)\n",
    "# c=m # for full reconciliation in one round\n",
    "# c determines the number of oil vectors we look for in the beginning\n",
    "# then c can be set to 1, but also keeping the same c (or extending to the full oil space) is ok, with same asymptotic complexity\n",
    "# print(\"c=\",c)\n",
    "\n",
    "K = GF(q)\n",
    "R = PolynomialRing(K,'x', c*v, order='degrevlex')\n",
    "x = R.gens()\n",
    "basis_Fn = (K**n).basis()"
   ]
  },
  {
   "cell_type": "code",
   "execution_count": 8,
   "id": "47aa053f-dc74-4bfc-abb8-fd2e6582d477",
   "metadata": {},
   "outputs": [
    {
     "name": "stdout",
     "output_type": "stream",
     "text": [
      "Hash of message:  [0, 0, 0, z2]\n",
      "Signature:  [1, 1, z2 + 1, 1, z2 + 1, 1, z2, z2]\n",
      "Signature verification:  True\n",
      "Secret oil space\n",
      "[     1      0      0      0 z2 + 1 z2 + 1      1     z2]\n",
      "[     0      1      0      0     z2     z2     z2     z2]\n",
      "[     0      0      1      0 z2 + 1 z2 + 1      0      0]\n",
      "[     0      0      0      1      0      0     z2      0]\n"
     ]
    }
   ],
   "source": [
    "###### key generation and signature check #######\n",
    "Public_Key, S, Central_Map = Keygen(q,n,m)\n",
    "hash = Matrix(K,m,1,[K.random_element() for j in range(m)])\n",
    "print(\"Hash of message: \", hash.list())\n",
    "signature = Sign(hash, S, Central_Map)\n",
    "print(\"Signature: \", signature.list())\n",
    "verification = Verify(hash, signature, Public_Key)\n",
    "print(\"Signature verification: \", verification)    \n",
    "\n",
    "##### for checking of result of reconciliation attack, otherwise not needed     \n",
    "Public_Key_Symm = [UpperToSymmetric(M) for M in Public_Key]\n",
    "Central_Map_Symm = [UpperToSymmetric(M) for M in Central_Map]\n",
    "O = (S.inverse() * Matrix(K, [basis_Fn[i] for i in range(n-m,n)]).transpose()).transpose()\n",
    "SpaceO=O.echelon_form()\n",
    "print(\"Secret oil space\")\n",
    "print(SpaceO)\n",
    "###############"
   ]
  },
  {
   "cell_type": "code",
   "execution_count": 9,
   "id": "193cdb0c-5599-48ee-8e9f-b4d62818990e",
   "metadata": {},
   "outputs": [
    {
     "name": "stdout",
     "output_type": "stream",
     "text": [
      "c= 2\n",
      "oil_vectors\n",
      "[[1, 0, 0, 0, x0, x1, x2, x3], [0, 1, 0, 0, x4, x5, x6, x7]]\n",
      "oil vectors found\n",
      "[[(z2 + 1), (z2 + 1), 1, z2], [z2, z2, z2, z2]]\n",
      " \n",
      "oil_vectors\n",
      "[[1, 0, 0, 0, (z2 + 1), (z2 + 1), 1, z2], [0, 1, 0, 0, z2, z2, z2, z2], [0, 0, 1, 0, x0, x1, x2, x3], [0, 0, 0, 1, x4, x5, x6, x7]]\n",
      "oil vectors found\n",
      "[[(z2 + 1), (z2 + 1), 0, 0], [0, 0, z2, 0]]\n",
      " \n",
      "The recovered oil space is\n",
      "[[1, 0, 0, 0, (z2 + 1), (z2 + 1), 1, z2], [0, 1, 0, 0, z2, z2, z2, z2], [0, 0, 1, 0, (z2 + 1), (z2 + 1), 0, 0], [0, 0, 0, 1, 0, 0, z2, 0]]\n"
     ]
    }
   ],
   "source": [
    "############## find Oil space #######################\n",
    "recoveredOil = FindOilSpace(Public_Key, Public_Key_Symm)\n",
    "print(\"The recovered oil space is\")\n",
    "print(recoveredOil)\n",
    "    \n",
    "    "
   ]
  },
  {
   "cell_type": "code",
   "execution_count": null,
   "id": "d2a75570-e25d-4903-a87c-ca672a3b622a",
   "metadata": {},
   "outputs": [],
   "source": []
  }
 ],
 "metadata": {
  "kernelspec": {
   "display_name": "SageMath 10.3",
   "language": "sage",
   "name": "sagemath"
  },
  "language_info": {
   "codemirror_mode": {
    "name": "ipython",
    "version": 3
   },
   "file_extension": ".py",
   "mimetype": "text/x-python",
   "name": "python",
   "nbconvert_exporter": "python",
   "pygments_lexer": "ipython3",
   "version": "3.11.1"
  }
 },
 "nbformat": 4,
 "nbformat_minor": 5
}
