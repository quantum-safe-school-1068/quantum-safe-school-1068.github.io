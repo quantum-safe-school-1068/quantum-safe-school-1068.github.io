{
 "cells": [
  {
   "cell_type": "markdown",
   "id": "5007af49-705c-48b0-aabd-4ab9df77e1a3",
   "metadata": {},
   "source": [
    "Multivariate Cryptography\n",
    "\n",
    "Introduction to Quantum-Safe Cryptography (IBM Zurich)\n",
    "\n",
    "Simona Samardjiska\n",
    "\n",
    "Programming assignment\n",
    "\n",
    "Implementation of the UOV signature scheme\n",
    "\n",
    "the implementation matches the general design of UOV\n",
    "\n",
    "details not relevant to the design paradigm are neglected\n"
   ]
  },
  {
   "cell_type": "markdown",
   "id": "0f53719d-96b8-4c21-9427-f9a41a0c81cf",
   "metadata": {},
   "source": [
    "Helper functions"
   ]
  },
  {
   "cell_type": "code",
   "execution_count": 1,
   "id": "ab63c75e-b0d2-491a-b4ea-05b5b461de7c",
   "metadata": {},
   "outputs": [],
   "source": [
    "# evaluate Multivariate map \n",
    "def MQeval(F,x,y):\n",
    "    return [(x.transpose()*M*y)[0,0] for M in F]\n",
    "\n",
    "def MQevalleft(F,x):\n",
    "    return [ x.transpose()  *M for M in F]"
   ]
  },
  {
   "cell_type": "code",
   "execution_count": 2,
   "id": "d5254b24-4c9f-4e89-bdf6-49af148818c8",
   "metadata": {},
   "outputs": [],
   "source": [
    "# generate random invertible matrix \n",
    "def RandomInvertible(n):\n",
    "    retM = Matrix(K,n,n)\n",
    "    while not retM.is_invertible():\n",
    "        retM = Matrix(K,[[K.random_element() for j in range(n)] for i in range(n)])\n",
    "    return retM\n",
    "\n",
    "# turn random matrix to upper diagonal\n",
    "def SquareToUpper(M):\n",
    "    n = M.ncols()\n",
    "    retM = M\n",
    "    for i in range(n):\n",
    "        for j in range(i+1,n):\n",
    "            retM[i,j] += retM[j,i]\n",
    "            retM[j,i] = K(0) \n",
    "    return retM\n",
    "            \n",
    "# turn upper diagonal matrix to symmetric\n",
    "def UpperToSymmetric(M):\n",
    "    return M+M.transpose() "
   ]
  },
  {
   "cell_type": "markdown",
   "id": "deecaa4e-357e-49b2-bb1e-a37bdb6535ba",
   "metadata": {},
   "source": [
    "UOV Key generation"
   ]
  },
  {
   "cell_type": "code",
   "execution_count": 3,
   "id": "c8fb5ef3-875f-422d-93c9-08a6ad83ec71",
   "metadata": {},
   "outputs": [],
   "source": [
    "# generates a UOV public-private key pair\n",
    "# we neglect the 0s in the public/private key matrices when calculating key sizes, \n",
    "# and assume a triangular form is equivalent to a compressed representation \n",
    "def Keygen(q,n,m):\n",
    "    Central_Map = [];\n",
    "    for k in range(m):\n",
    "        P  = Matrix(K,n,n)\n",
    "        for i in range(n-m):\n",
    "            for j in range(i,n):\n",
    "                P[i,j] = K.random_element()\n",
    "        Central_Map.append(P)\n",
    "    S = RandomInvertible(n)\n",
    "    Public_Key = [SquareToUpper(S.transpose()*M*S) for M in Central_Map]\n",
    "    \n",
    "    return Public_Key, S, Central_Map"
   ]
  },
  {
   "cell_type": "markdown",
   "id": "053dffcf-4ec7-40b5-ae3f-ef8fec682e01",
   "metadata": {},
   "source": [
    "Signing algorithm"
   ]
  },
  {
   "cell_type": "code",
   "execution_count": 4,
   "id": "0ca2c310-0640-4119-958f-e350abf6f11f",
   "metadata": {},
   "outputs": [],
   "source": [
    "def Sign(hash, S, Central_Map):\n",
    "    Central_vinegar = [M.submatrix(0,0,n-m,n-m) for M in Central_Map]\n",
    "    Central_oilvinegar = [M.submatrix(0,n-m,n-m,m) for M in Central_Map]\n",
    "    coef_matrix = Matrix(K,m,m)\n",
    "    while not coef_matrix.is_invertible():\n",
    "        vinegar_vector=Matrix(K,n-m,1,[K.random_element() for j in range(n-m)])\n",
    "        coef_matrix = Matrix(K,[(vinegar_vector.transpose() * Central_oilvinegar[i]).list()  for i in range(m)])\n",
    "    coef_vector = Matrix(K,m,1,[(hash[i,0] - vinegar_vector.transpose() * Central_vinegar[i] * vinegar_vector)[0,0]  for i in range(m)])\n",
    "    oil_vector = coef_matrix.inverse() * coef_vector\n",
    "    signature = S.inverse() * vinegar_vector.stack(oil_vector)\n",
    "    return signature"
   ]
  },
  {
   "cell_type": "markdown",
   "id": "d29b9d84-e219-4713-a0f4-c62bf111dc42",
   "metadata": {},
   "source": [
    "Verification algorithm"
   ]
  },
  {
   "cell_type": "code",
   "execution_count": 5,
   "id": "ad801a93-6f6d-40ac-bcbc-66b3473f7545",
   "metadata": {},
   "outputs": [],
   "source": [
    "def Verify(hash, signature, Public_Key):\n",
    "    hashprime = MQeval(Public_Key,signature,signature)\n",
    "    return hash.list() == hashprime"
   ]
  },
  {
   "cell_type": "markdown",
   "id": "af3f0c3a-64c9-421b-a362-f80c4b9b2583",
   "metadata": {},
   "source": [
    "Test for given parameters"
   ]
  },
  {
   "cell_type": "code",
   "execution_count": 6,
   "id": "78ff7c43-59ed-443f-b909-137d4b4745f5",
   "metadata": {},
   "outputs": [],
   "source": [
    "# q=256\n",
    "# n=112\n",
    "# m=44\n",
    "\n",
    "# q=16\n",
    "# n=112\n",
    "# m=44\n",
    "\n",
    "q=4\n",
    "n=28\n",
    "m=11\n",
    "\n",
    "# q=4\n",
    "# n=84\n",
    "# m=34\n",
    "\n",
    "# q=4\n",
    "# n=100\n",
    "# m=40\n",
    "\n",
    "# q=4\n",
    "# n=56\n",
    "# m=22\n",
    "\n",
    "v=n-m\n",
    "K = GF(q) "
   ]
  },
  {
   "cell_type": "code",
   "execution_count": 7,
   "id": "ba0151c0-5416-46c9-9f97-428ce8a64207",
   "metadata": {},
   "outputs": [
    {
     "name": "stdout",
     "output_type": "stream",
     "text": [
      "Hash of message:  [z2, 1, 0, z2 + 1, z2 + 1, z2 + 1, 0, z2 + 1, 1, 0, 0]\n"
     ]
    }
   ],
   "source": [
    "Public_Key, S, Central_Map = Keygen(q,n,m)\n",
    "hash = Matrix(K,m,1,[K.random_element() for j in range(m)])\n",
    "print(\"Hash of message: \", hash.list())"
   ]
  },
  {
   "cell_type": "code",
   "execution_count": 8,
   "id": "77c13605-d231-4caa-9657-ce18bb89f266",
   "metadata": {},
   "outputs": [
    {
     "name": "stdout",
     "output_type": "stream",
     "text": [
      "Signature:  [1, 0, z2 + 1, 1, 0, z2 + 1, 0, z2, z2 + 1, z2, 0, 1, 0, z2, z2 + 1, 1, z2, z2 + 1, 1, z2, 0, z2, z2, 0, z2 + 1, z2 + 1, z2 + 1, 1]\n"
     ]
    }
   ],
   "source": [
    "signature = Sign(hash, S, Central_Map)\n",
    "print(\"Signature: \", signature.list())  "
   ]
  },
  {
   "cell_type": "code",
   "execution_count": 9,
   "id": "26553bd0-f9a7-488d-a8cb-4001f9627d5b",
   "metadata": {},
   "outputs": [
    {
     "name": "stdout",
     "output_type": "stream",
     "text": [
      "Signature verification:  True\n"
     ]
    }
   ],
   "source": [
    "verification = Verify(hash, signature, Public_Key)\n",
    "print(\"Signature verification: \", verification)  "
   ]
  }
 ],
 "metadata": {
  "kernelspec": {
   "display_name": "SageMath 10.3",
   "language": "sage",
   "name": "sagemath"
  },
  "language_info": {
   "codemirror_mode": {
    "name": "ipython",
    "version": 3
   },
   "file_extension": ".py",
   "mimetype": "text/x-python",
   "name": "python",
   "nbconvert_exporter": "python",
   "pygments_lexer": "ipython3",
   "version": "3.11.1"
  }
 },
 "nbformat": 4,
 "nbformat_minor": 5
}
